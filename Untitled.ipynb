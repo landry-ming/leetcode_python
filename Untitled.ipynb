{
 "cells": [
  {
   "cell_type": "code",
   "execution_count": 26,
   "id": "broken-friendly",
   "metadata": {},
   "outputs": [],
   "source": [
    "nums = [4,1,1]"
   ]
  },
  {
   "cell_type": "code",
   "execution_count": 27,
   "id": "wireless-horror",
   "metadata": {},
   "outputs": [],
   "source": [
    "a = 0"
   ]
  },
  {
   "cell_type": "code",
   "execution_count": 28,
   "id": "pressed-vermont",
   "metadata": {},
   "outputs": [],
   "source": [
    "for num in nums:\n",
    "    a ^= num"
   ]
  },
  {
   "cell_type": "code",
   "execution_count": 38,
   "id": "enormous-latvia",
   "metadata": {},
   "outputs": [],
   "source": [
    "a = [1,2,3]"
   ]
  },
  {
   "cell_type": "code",
   "execution_count": 40,
   "id": "prostate-generation",
   "metadata": {},
   "outputs": [
    {
     "data": {
      "text/plain": [
       "'[1, 2, 3]'"
      ]
     },
     "execution_count": 40,
     "metadata": {},
     "output_type": "execute_result"
    }
   ],
   "source": [
    "''.join(str(a))"
   ]
  },
  {
   "cell_type": "code",
   "execution_count": 34,
   "id": "postal-airline",
   "metadata": {},
   "outputs": [
    {
     "data": {
      "text/plain": [
       "4"
      ]
     },
     "execution_count": 34,
     "metadata": {},
     "output_type": "execute_result"
    }
   ],
   "source": [
    "5 ^ 1"
   ]
  },
  {
   "cell_type": "code",
   "execution_count": 31,
   "id": "wrong-adult",
   "metadata": {},
   "outputs": [
    {
     "data": {
      "text/plain": [
       "4"
      ]
     },
     "execution_count": 31,
     "metadata": {},
     "output_type": "execute_result"
    }
   ],
   "source": [
    "5 ^1\n"
   ]
  },
  {
   "cell_type": "code",
   "execution_count": 41,
   "id": "first-david",
   "metadata": {},
   "outputs": [
    {
     "data": {
      "text/plain": [
       "False"
      ]
     },
     "execution_count": 41,
     "metadata": {},
     "output_type": "execute_result"
    }
   ],
   "source": [
    "\"30\" + \"3\" > \"3\" + \"30\""
   ]
  },
  {
   "cell_type": "code",
   "execution_count": 16,
   "id": "integrated-horror",
   "metadata": {},
   "outputs": [],
   "source": [
    "b = 1"
   ]
  },
  {
   "cell_type": "code",
   "execution_count": 17,
   "id": "satisfied-monaco",
   "metadata": {},
   "outputs": [],
   "source": [
    "a ^= b"
   ]
  },
  {
   "cell_type": "code",
   "execution_count": 18,
   "id": "permanent-strategy",
   "metadata": {
    "scrolled": true
   },
   "outputs": [
    {
     "data": {
      "text/plain": [
       "5"
      ]
     },
     "execution_count": 18,
     "metadata": {},
     "output_type": "execute_result"
    }
   ],
   "source": [
    "a"
   ]
  },
  {
   "cell_type": "code",
   "execution_count": 10,
   "id": "fuzzy-stock",
   "metadata": {},
   "outputs": [
    {
     "data": {
      "text/plain": [
       "7"
      ]
     },
     "execution_count": 10,
     "metadata": {},
     "output_type": "execute_result"
    }
   ],
   "source": [
    "5 ^ 2"
   ]
  },
  {
   "cell_type": "code",
   "execution_count": 43,
   "id": "electric-processor",
   "metadata": {},
   "outputs": [],
   "source": [
    "a = ['1', \"2\", \"3\"]"
   ]
  },
  {
   "cell_type": "code",
   "execution_count": 46,
   "id": "funky-driving",
   "metadata": {},
   "outputs": [],
   "source": [
    "b = '['+ ','.join(a) + ']'"
   ]
  },
  {
   "cell_type": "code",
   "execution_count": 48,
   "id": "modern-brain",
   "metadata": {},
   "outputs": [
    {
     "data": {
      "text/plain": [
       "'[1,2,3]'"
      ]
     },
     "execution_count": 48,
     "metadata": {},
     "output_type": "execute_result"
    }
   ],
   "source": [
    "b\n"
   ]
  },
  {
   "cell_type": "code",
   "execution_count": 51,
   "id": "overhead-swing",
   "metadata": {},
   "outputs": [
    {
     "data": {
      "text/plain": [
       "['1', '2', '3']"
      ]
     },
     "execution_count": 51,
     "metadata": {},
     "output_type": "execute_result"
    }
   ],
   "source": [
    "b[1:-1].split(\",\")"
   ]
  },
  {
   "cell_type": "code",
   "execution_count": 53,
   "id": "durable-benefit",
   "metadata": {},
   "outputs": [
    {
     "ename": "ValueError",
     "evalue": "invalid literal for int() with base 10: 'a'",
     "output_type": "error",
     "traceback": [
      "\u001b[1;31m---------------------------------------------------------------------------\u001b[0m",
      "\u001b[1;31mValueError\u001b[0m                                Traceback (most recent call last)",
      "\u001b[1;32m<ipython-input-53-d9136db7b558>\u001b[0m in \u001b[0;36m<module>\u001b[1;34m\u001b[0m\n\u001b[1;32m----> 1\u001b[1;33m \u001b[0mint\u001b[0m\u001b[1;33m(\u001b[0m\u001b[1;34m\"a\"\u001b[0m\u001b[1;33m)\u001b[0m\u001b[1;33m\u001b[0m\u001b[1;33m\u001b[0m\u001b[0m\n\u001b[0m",
      "\u001b[1;31mValueError\u001b[0m: invalid literal for int() with base 10: 'a'"
     ]
    }
   ],
   "source": [
    "int(\"a\")"
   ]
  },
  {
   "cell_type": "code",
   "execution_count": 55,
   "id": "caring-burning",
   "metadata": {},
   "outputs": [
    {
     "ename": "ValueError",
     "evalue": "invalid literal for int() with base 10: 'c'",
     "output_type": "error",
     "traceback": [
      "\u001b[1;31m---------------------------------------------------------------------------\u001b[0m",
      "\u001b[1;31mValueError\u001b[0m                                Traceback (most recent call last)",
      "\u001b[1;32m<ipython-input-55-acab335649b2>\u001b[0m in \u001b[0;36m<module>\u001b[1;34m\u001b[0m\n\u001b[1;32m----> 1\u001b[1;33m \u001b[0mint\u001b[0m\u001b[1;33m(\u001b[0m\u001b[1;34m'c'\u001b[0m\u001b[1;33m)\u001b[0m\u001b[1;33m\u001b[0m\u001b[1;33m\u001b[0m\u001b[0m\n\u001b[0m",
      "\u001b[1;31mValueError\u001b[0m: invalid literal for int() with base 10: 'c'"
     ]
    }
   ],
   "source": [
    "int('c')"
   ]
  },
  {
   "cell_type": "code",
   "execution_count": 56,
   "id": "passive-trustee",
   "metadata": {},
   "outputs": [],
   "source": [
    "s = \"3+2*2\""
   ]
  },
  {
   "cell_type": "code",
   "execution_count": 57,
   "id": "afraid-entity",
   "metadata": {},
   "outputs": [],
   "source": [
    "from collections import deque"
   ]
  },
  {
   "cell_type": "code",
   "execution_count": 58,
   "id": "isolated-provincial",
   "metadata": {},
   "outputs": [],
   "source": [
    "n = len(s)"
   ]
  },
  {
   "cell_type": "code",
   "execution_count": 59,
   "id": "novel-germany",
   "metadata": {},
   "outputs": [],
   "source": [
    "s = deque(s)"
   ]
  },
  {
   "cell_type": "code",
   "execution_count": 65,
   "id": "swedish-reverse",
   "metadata": {},
   "outputs": [
    {
     "data": {
      "text/plain": [
       "deque(['3', '+', '2', '*', '2'])"
      ]
     },
     "execution_count": 65,
     "metadata": {},
     "output_type": "execute_result"
    }
   ],
   "source": [
    "s"
   ]
  },
  {
   "cell_type": "code",
   "execution_count": 70,
   "id": "irish-rogers",
   "metadata": {},
   "outputs": [
    {
     "data": {
      "text/plain": [
       "False"
      ]
     },
     "execution_count": 70,
     "metadata": {},
     "output_type": "execute_result"
    }
   ],
   "source": [
    "s[1].isdigit()"
   ]
  },
  {
   "cell_type": "code",
   "execution_count": 62,
   "id": "possible-employer",
   "metadata": {},
   "outputs": [],
   "source": [
    "num = 0"
   ]
  },
  {
   "cell_type": "code",
   "execution_count": 63,
   "id": "surrounded-frost",
   "metadata": {},
   "outputs": [],
   "source": [
    "sign = \"+\""
   ]
  },
  {
   "cell_type": "code",
   "execution_count": 71,
   "id": "specified-congress",
   "metadata": {},
   "outputs": [
    {
     "ename": "SyntaxError",
     "evalue": "unexpected EOF while parsing (<ipython-input-71-fccef6b5d020>, line 1)",
     "output_type": "error",
     "traceback": [
      "\u001b[1;36m  File \u001b[1;32m\"<ipython-input-71-fccef6b5d020>\"\u001b[1;36m, line \u001b[1;32m1\u001b[0m\n\u001b[1;33m    res = [\u001b[0m\n\u001b[1;37m           ^\u001b[0m\n\u001b[1;31mSyntaxError\u001b[0m\u001b[1;31m:\u001b[0m unexpected EOF while parsing\n"
     ]
    }
   ],
   "source": [
    "res = ["
   ]
  },
  {
   "cell_type": "code",
   "execution_count": 1,
   "id": "intelligent-productivity",
   "metadata": {},
   "outputs": [],
   "source": [
    "groups = [0] * 4"
   ]
  },
  {
   "cell_type": "code",
   "execution_count": 2,
   "id": "heated-wallet",
   "metadata": {},
   "outputs": [
    {
     "name": "stdout",
     "output_type": "stream",
     "text": [
      "0 0\n",
      "1 0\n",
      "2 0\n",
      "3 0\n"
     ]
    }
   ],
   "source": [
    "for i, group in enumerate(groups):\n",
    "    print(i, group)"
   ]
  },
  {
   "cell_type": "code",
   "execution_count": null,
   "id": "veterinary-gender",
   "metadata": {},
   "outputs": [],
   "source": []
  }
 ],
 "metadata": {
  "kernelspec": {
   "display_name": "Python 3",
   "language": "python",
   "name": "python3"
  },
  "language_info": {
   "codemirror_mode": {
    "name": "ipython",
    "version": 3
   },
   "file_extension": ".py",
   "mimetype": "text/x-python",
   "name": "python",
   "nbconvert_exporter": "python",
   "pygments_lexer": "ipython3",
   "version": "3.8.5"
  }
 },
 "nbformat": 4,
 "nbformat_minor": 5
}
