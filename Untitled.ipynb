{
 "cells": [
  {
   "cell_type": "code",
   "execution_count": 11,
   "id": "creative-denial",
   "metadata": {},
   "outputs": [],
   "source": [
    "count = 3\n",
    "alist1 = [1,3,2]\n",
    "alist2 = [0,2,3]"
   ]
  },
  {
   "cell_type": "code",
   "execution_count": 18,
   "id": "solar-spider",
   "metadata": {},
   "outputs": [],
   "source": [
    "from bisect import bisect_left"
   ]
  },
  {
   "cell_type": "code",
   "execution_count": 50,
   "id": "russian-australia",
   "metadata": {},
   "outputs": [],
   "source": [
    "n = 3\n",
    "alist1 = [1, 5, 4, 2, ]\n",
    "alist2 = [10, 32, 19, 21]"
   ]
  },
  {
   "cell_type": "code",
   "execution_count": 51,
   "id": "impressive-command",
   "metadata": {},
   "outputs": [],
   "source": [
    "a = sorted(zip(alist1, alist2), key=lambda x:(x[0], -x[1]))"
   ]
  },
  {
   "cell_type": "code",
   "execution_count": 52,
   "id": "egyptian-white",
   "metadata": {},
   "outputs": [
    {
     "data": {
      "text/plain": [
       "[(1, 10), (2, 21), (4, 19), (5, 32)]"
      ]
     },
     "execution_count": 52,
     "metadata": {},
     "output_type": "execute_result"
    }
   ],
   "source": [
    "a"
   ]
  },
  {
   "cell_type": "code",
   "execution_count": 24,
   "id": "processed-array",
   "metadata": {},
   "outputs": [],
   "source": [
    "total = 0\n",
    "q = [0] * 100005"
   ]
  },
  {
   "cell_type": "code",
   "execution_count": 27,
   "id": "valued-security",
   "metadata": {},
   "outputs": [
    {
     "name": "stdout",
     "output_type": "stream",
     "text": [
      "2\n"
     ]
    }
   ],
   "source": [
    "for i in range(n):\n",
    "    t = bisect_left(a=q, x=a[i][1], lo=0, hi=total)\n",
    "    if t == total:\n",
    "        total += 1\n",
    "    q[t] = a[i][1]\n",
    "print(total)"
   ]
  },
  {
   "cell_type": "code",
   "execution_count": 41,
   "id": "right-orlando",
   "metadata": {},
   "outputs": [],
   "source": [
    "alist = [3, 1, 4, 5, 9]"
   ]
  },
  {
   "cell_type": "code",
   "execution_count": 48,
   "id": "hazardous-theme",
   "metadata": {},
   "outputs": [],
   "source": [
    "def getdp(alist):\n",
    "    n = len(alist)\n",
    "    dp = [0] * n\n",
    "    for i in range(n):\n",
    "        dp[i] = 1\n",
    "        for j in range(i):\n",
    "            if alist[i] > alist[j]:\n",
    "                dp[i] = max(dp[i], dp[j]+1)\n",
    "    return dp"
   ]
  },
  {
   "cell_type": "code",
   "execution_count": 49,
   "id": "english-emerald",
   "metadata": {},
   "outputs": [
    {
     "data": {
      "text/plain": [
       "[1, 1, 2, 3, 4]"
      ]
     },
     "execution_count": 49,
     "metadata": {},
     "output_type": "execute_result"
    }
   ],
   "source": [
    "getdp(alist)"
   ]
  },
  {
   "cell_type": "code",
   "execution_count": null,
   "id": "incorporate-imagination",
   "metadata": {},
   "outputs": [],
   "source": [
    "def LIS(alist):\n",
    "    dp = getdp(alist)\n",
    "    max_ = max(dp)\n",
    "    index = dp.index(max_)\n",
    "    lis = [0] * max_\n",
    "    max_ -= 1\n",
    "    lis[max_] = alist[max_]\n",
    "    for i in range(index)\n",
    "    \n",
    "    \n",
    "    \n",
    "    "
   ]
  },
  {
   "cell_type": "code",
   "execution_count": 37,
   "id": "amazing-irish",
   "metadata": {},
   "outputs": [
    {
     "ename": "TypeError",
     "evalue": "'function' object is not subscriptable",
     "output_type": "error",
     "traceback": [
      "\u001b[1;31m---------------------------------------------------------------------------\u001b[0m",
      "\u001b[1;31mTypeError\u001b[0m                                 Traceback (most recent call last)",
      "\u001b[1;32m<ipython-input-37-2bc72809afec>\u001b[0m in \u001b[0;36m<module>\u001b[1;34m\u001b[0m\n\u001b[1;32m----> 1\u001b[1;33m \u001b[0mprint\u001b[0m\u001b[1;33m(\u001b[0m\u001b[0mgetdp\u001b[0m\u001b[1;33m[\u001b[0m\u001b[0malist\u001b[0m\u001b[1;33m]\u001b[0m\u001b[1;33m)\u001b[0m\u001b[1;33m\u001b[0m\u001b[1;33m\u001b[0m\u001b[0m\n\u001b[0m",
      "\u001b[1;31mTypeError\u001b[0m: 'function' object is not subscriptable"
     ]
    }
   ],
   "source": []
  },
  {
   "cell_type": "code",
   "execution_count": null,
   "id": "naughty-pierre",
   "metadata": {},
   "outputs": [],
   "source": [
    "bisect_left()"
   ]
  },
  {
   "cell_type": "code",
   "execution_count": 53,
   "id": "northern-vitamin",
   "metadata": {},
   "outputs": [
    {
     "data": {
      "text/plain": [
       "1000000007.0"
      ]
     },
     "execution_count": 53,
     "metadata": {},
     "output_type": "execute_result"
    }
   ],
   "source": [
    "1e9+7"
   ]
  },
  {
   "cell_type": "code",
   "execution_count": null,
   "id": "employed-usage",
   "metadata": {},
   "outputs": [],
   "source": [
    "小强发现当已知xy = Bxy=B以及x+y = Ax+y=A时,能很轻易的算出x^2+y^2x \n",
    "2+y2的值.但小强想请你在已知AA 和BB的情况下,计算出x^n+y^nxn\n",
    " +y \n",
    "n 的值.因为这个结果可能很大,所以所有的运算都在模1e9+7下进行."
   ]
  },
  {
   "cell_type": "code",
   "execution_count": 55,
   "id": "bound-flower",
   "metadata": {},
   "outputs": [
    {
     "data": {
      "text/plain": [
       "1"
      ]
     },
     "execution_count": 55,
     "metadata": {},
     "output_type": "execute_result"
    }
   ],
   "source": [
    "3 % 2"
   ]
  },
  {
   "cell_type": "code",
   "execution_count": 64,
   "id": "finished-mailing",
   "metadata": {},
   "outputs": [
    {
     "data": {
      "text/plain": [
       "2"
      ]
     },
     "execution_count": 64,
     "metadata": {},
     "output_type": "execute_result"
    }
   ],
   "source": [
    "5 % 3"
   ]
  },
  {
   "cell_type": "code",
   "execution_count": 65,
   "id": "annual-capability",
   "metadata": {},
   "outputs": [
    {
     "data": {
      "text/plain": [
       "0"
      ]
     },
     "execution_count": 65,
     "metadata": {},
     "output_type": "execute_result"
    }
   ],
   "source": [
    "4 % 2"
   ]
  },
  {
   "cell_type": "code",
   "execution_count": 66,
   "id": "attached-retreat",
   "metadata": {},
   "outputs": [
    {
     "name": "stdout",
     "output_type": "stream",
     "text": [
      "1\n"
     ]
    }
   ],
   "source": [
    "for i in range(3, 4):\n",
    "    print(1)"
   ]
  },
  {
   "cell_type": "markdown",
   "id": "turned-mitchell",
   "metadata": {},
   "source": [
    "小强现在有个节点,他想请你帮他计算出有多少种不同的二叉树满足节点个数为且树的高度不超过的方案.因为答案很大,所以答案需要模上1e9+7后输出.\n",
    "树的高度: 定义为所有叶子到根路径上节点个数的最大值.\n",
    "例如: 当n=3,m=3时,有如下5种方案:"
   ]
  },
  {
   "cell_type": "code",
   "execution_count": null,
   "id": "sunset-pizza",
   "metadata": {},
   "outputs": [],
   "source": [
    "import sys\n",
    "n = int(input())\n",
    "ar = [int(i) for i in input().split()]\n",
    "\n",
    "def dfs(root, fa)"
   ]
  },
  {
   "cell_type": "code",
   "execution_count": null,
   "id": "cellular-marks",
   "metadata": {},
   "outputs": [],
   "source": []
  },
  {
   "cell_type": "code",
   "execution_count": 68,
   "id": "smooth-services",
   "metadata": {},
   "outputs": [],
   "source": [
    "List = [2,11,21]"
   ]
  },
  {
   "cell_type": "code",
   "execution_count": 70,
   "id": "resident-beach",
   "metadata": {},
   "outputs": [],
   "source": [
    "diff = tuple([List[j]-List[0] for j in range(1,3)])\n",
    "in_diff = tuple([List[0]-List[j] for j in range(1,3)])"
   ]
  },
  {
   "cell_type": "code",
   "execution_count": 71,
   "id": "medium-protocol",
   "metadata": {},
   "outputs": [
    {
     "data": {
      "text/plain": [
       "(9, 19)"
      ]
     },
     "execution_count": 71,
     "metadata": {},
     "output_type": "execute_result"
    }
   ],
   "source": [
    "diff"
   ]
  },
  {
   "cell_type": "code",
   "execution_count": 72,
   "id": "changing-ladder",
   "metadata": {},
   "outputs": [
    {
     "data": {
      "text/plain": [
       "(-9, -19)"
      ]
     },
     "execution_count": 72,
     "metadata": {},
     "output_type": "execute_result"
    }
   ],
   "source": [
    "in_diff"
   ]
  },
  {
   "cell_type": "code",
   "execution_count": 73,
   "id": "specified-bulgaria",
   "metadata": {},
   "outputs": [],
   "source": [
    "a = {1}"
   ]
  },
  {
   "cell_type": "code",
   "execution_count": 110,
   "id": "processed-modem",
   "metadata": {},
   "outputs": [],
   "source": [
    "n = 2\n",
    "m = 2"
   ]
  },
  {
   "cell_type": "code",
   "execution_count": 107,
   "id": "patient-trout",
   "metadata": {},
   "outputs": [
    {
     "name": "stdout",
     "output_type": "stream",
     "text": [
      "1 2 \n",
      "1 3 \n",
      "1 4 \n",
      "1 5 \n",
      "2 3 \n",
      "2 4 \n",
      "2 5 \n",
      "3 4 \n",
      "3 5 \n",
      "4 5 \n"
     ]
    }
   ],
   "source": [
    "def dfs(index, path, res, n, m):\n",
    "    if len(path) == m:\n",
    "        res.append(path[:])\n",
    "        return\n",
    "    for i in range(index, n+1):\n",
    "        path.append(i)\n",
    "        dfs(index+1, path, res, n, m)\n",
    "        path.pop()\n",
    "path = []\n",
    "res = []\n",
    "dfs(1, path, res, n,m)\n",
    "res\n",
    "for i in ans:\n",
    "    for j in i:\n",
    "        print(j, end=\" \")\n",
    "    print()"
   ]
  },
  {
   "cell_type": "code",
   "execution_count": null,
   "id": "interstate-fifty",
   "metadata": {},
   "outputs": [],
   "source": []
  },
  {
   "cell_type": "code",
   "execution_count": null,
   "id": "scenic-three",
   "metadata": {},
   "outputs": [],
   "source": []
  },
  {
   "cell_type": "code",
   "execution_count": null,
   "id": "informal-marina",
   "metadata": {},
   "outputs": [],
   "source": []
  },
  {
   "cell_type": "code",
   "execution_count": null,
   "id": "exposed-medicare",
   "metadata": {},
   "outputs": [],
   "source": []
  },
  {
   "cell_type": "code",
   "execution_count": null,
   "id": "equal-oriental",
   "metadata": {},
   "outputs": [],
   "source": []
  },
  {
   "cell_type": "code",
   "execution_count": null,
   "id": "flexible-pottery",
   "metadata": {},
   "outputs": [],
   "source": []
  },
  {
   "cell_type": "code",
   "execution_count": null,
   "id": "sitting-seventh",
   "metadata": {},
   "outputs": [],
   "source": []
  },
  {
   "cell_type": "code",
   "execution_count": null,
   "id": "earlier-hampton",
   "metadata": {},
   "outputs": [],
   "source": []
  },
  {
   "cell_type": "code",
   "execution_count": null,
   "id": "hundred-account",
   "metadata": {},
   "outputs": [],
   "source": []
  },
  {
   "cell_type": "code",
   "execution_count": null,
   "id": "apart-barcelona",
   "metadata": {},
   "outputs": [],
   "source": []
  },
  {
   "cell_type": "code",
   "execution_count": null,
   "id": "utility-budapest",
   "metadata": {},
   "outputs": [],
   "source": [
    "\n"
   ]
  }
 ],
 "metadata": {
  "kernelspec": {
   "display_name": "Python 3",
   "language": "python",
   "name": "python3"
  },
  "language_info": {
   "codemirror_mode": {
    "name": "ipython",
    "version": 3
   },
   "file_extension": ".py",
   "mimetype": "text/x-python",
   "name": "python",
   "nbconvert_exporter": "python",
   "pygments_lexer": "ipython3",
   "version": "3.8.5"
  }
 },
 "nbformat": 4,
 "nbformat_minor": 5
}
